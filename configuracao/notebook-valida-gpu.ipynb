{
 "cells": [
  {
   "cell_type": "code",
   "execution_count": 1,
   "metadata": {},
   "outputs": [
    {
     "name": "stdout",
     "output_type": "stream",
     "text": [
      "PyTorch version: 2.5.1+cu118\n",
      "Torchvision version: 0.20.1+cu118\n",
      "Torchaudio version: 2.5.1+cu118\n",
      "CUDA disponível: True\n",
      "Versão do CUDA: 11.8\n",
      "Nome da GPU: NVIDIA GeForce RTX 4070\n",
      "Memória total da GPU: 11.99 GB\n",
      "Memória disponível da GPU: 0.00 GB\n"
     ]
    }
   ],
   "source": [
    "# %pip install torchaudio\n",
    "\n",
    "import torch\n",
    "import torchvision\n",
    "import torchaudio\n",
    "\n",
    "# Verificar versões instaladas\n",
    "print(f\"PyTorch version: {torch.__version__}\")\n",
    "print(f\"Torchvision version: {torchvision.__version__}\")\n",
    "print(f\"Torchaudio version: {torchaudio.__version__}\")\n",
    "\n",
    "# Verificar se CUDA está disponível\n",
    "cuda_available = torch.cuda.is_available()\n",
    "print(f\"CUDA disponível: {cuda_available}\")\n",
    "\n",
    "# Verificar versão do CUDA, nome da GPU e memória disponível\n",
    "if cuda_available:\n",
    "    print(f\"Versão do CUDA: {torch.version.cuda}\")\n",
    "    print(f\"Nome da GPU: {torch.cuda.get_device_name(0)}\")\n",
    "    gpu_properties = torch.cuda.get_device_properties(0)\n",
    "    print(f\"Memória total da GPU: {gpu_properties.total_memory / (1024 ** 3):.2f} GB\")\n",
    "    print(f\"Memória disponível da GPU: {torch.cuda.memory_reserved(0) / (1024 ** 3):.2f} GB\")\n",
    "else:\n",
    "    print(\"CUDA não está disponível.\")"
   ]
  }
 ],
 "metadata": {
  "kernelspec": {
   "display_name": ".venv",
   "language": "python",
   "name": "python3"
  },
  "language_info": {
   "codemirror_mode": {
    "name": "ipython",
    "version": 3
   },
   "file_extension": ".py",
   "mimetype": "text/x-python",
   "name": "python",
   "nbconvert_exporter": "python",
   "pygments_lexer": "ipython3",
   "version": "3.11.0"
  }
 },
 "nbformat": 4,
 "nbformat_minor": 2
}
