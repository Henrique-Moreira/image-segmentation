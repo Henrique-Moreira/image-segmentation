{
 "cells": [
  {
   "cell_type": "code",
   "execution_count": 4,
   "metadata": {},
   "outputs": [
    {
     "name": "stdout",
     "output_type": "stream",
     "text": [
      "PyTorch version: 2.5.0+cpu\n",
      "Torchvision version: 0.20.0+cpu\n",
      "Torchaudio version: 2.5.0+cpu\n",
      "CUDA disponível: False\n",
      "CUDA não está disponível.\n"
     ]
    }
   ],
   "source": [
    "# %pip install torchaudio\n",
    "\n",
    "import torch\n",
    "import torchvision\n",
    "import torchaudio\n",
    "\n",
    "# Verificar versões instaladas\n",
    "print(f\"PyTorch version: {torch.__version__}\")\n",
    "print(f\"Torchvision version: {torchvision.__version__}\")\n",
    "print(f\"Torchaudio version: {torchaudio.__version__}\")\n",
    "\n",
    "# Verificar se CUDA está disponível\n",
    "cuda_available = torch.cuda.is_available()\n",
    "print(f\"CUDA disponível: {cuda_available}\")\n",
    "\n",
    "# Verificar versão do CUDA, nome da GPU e memória disponível\n",
    "if cuda_available:\n",
    "    print(f\"Versão do CUDA: {torch.version.cuda}\")\n",
    "    print(f\"Nome da GPU: {torch.cuda.get_device_name(0)}\")\n",
    "    gpu_properties = torch.cuda.get_device_properties(0)\n",
    "    print(f\"Memória total da GPU: {gpu_properties.total_memory / (1024 ** 3):.2f} GB\")\n",
    "    print(f\"Memória disponível da GPU: {torch.cuda.memory_reserved(0) / (1024 ** 3):.2f} GB\")\n",
    "else:\n",
    "    print(\"CUDA não está disponível.\")"
   ]
  }
 ],
 "metadata": {
  "kernelspec": {
   "display_name": ".venv",
   "language": "python",
   "name": "python3"
  },
  "language_info": {
   "codemirror_mode": {
    "name": "ipython",
    "version": 3
   },
   "file_extension": ".py",
   "mimetype": "text/x-python",
   "name": "python",
   "nbconvert_exporter": "python",
   "pygments_lexer": "ipython3",
   "version": "3.12.4"
  }
 },
 "nbformat": 4,
 "nbformat_minor": 2
}
