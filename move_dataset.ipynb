{
 "cells": [
  {
   "cell_type": "code",
   "execution_count": 4,
   "metadata": {},
   "outputs": [],
   "source": [
    "import os\n",
    "import shutil\n",
    "import random\n",
    "\n",
    "# Caminhos das pastas\n",
    "train_dir = r'C:\\Mestrado\\Materias\\2024-02-Sistemas para Processamento Multimidia\\seminario\\image-segmentation\\dataset\\global-wheat-detection\\train'\n",
    "test_dir = r'C:\\Mestrado\\Materias\\2024-02-Sistemas para Processamento Multimidia\\seminario\\image-segmentation\\dataset\\global-wheat-detection\\test'\n",
    "valid_dir = r'C:\\Mestrado\\Materias\\2024-02-Sistemas para Processamento Multimidia\\seminario\\image-segmentation\\dataset\\global-wheat-detection\\val'\n",
    "\n",
    "# Listar todos os arquivos .jpg na pasta train\n",
    "files = [f for f in os.listdir(train_dir) if f.endswith('.jpg')]\n",
    "\n",
    "# Embaralhar a lista de arquivos\n",
    "random.shuffle(files)\n",
    "\n",
    "# Calcular os índices para divisão\n",
    "total_files = len(files)\n",
    "train_count = int(total_files * 0.6)\n",
    "test_count = int(total_files * 0.3)\n",
    "valid_count = total_files - train_count - test_count\n",
    "\n",
    "# Função para mover arquivos com rollback em caso de erro\n",
    "def move_files_with_rollback(file_list, source_dir, dest_dir):\n",
    "    moved_files = []\n",
    "    try:\n",
    "        for file in file_list:\n",
    "            base_name = os.path.splitext(file)[0]\n",
    "            jpg_file = os.path.join(source_dir, file)\n",
    "            json_file = os.path.join(source_dir, base_name + '.json')\n",
    "            \n",
    "            shutil.move(jpg_file, dest_dir)\n",
    "            moved_files.append((jpg_file, os.path.join(dest_dir, file)))\n",
    "            \n",
    "            if os.path.exists(json_file):\n",
    "                shutil.move(json_file, dest_dir)\n",
    "                moved_files.append((json_file, os.path.join(dest_dir, base_name + '.json')))\n",
    "    except Exception as e:\n",
    "        # Rollback\n",
    "        for src, dest in moved_files:\n",
    "            shutil.move(dest, src)\n",
    "        raise e\n",
    "\n",
    "# Mover arquivos para as pastas correspondentes com rollback\n",
    "try:\n",
    "    move_files_with_rollback(files[train_count:train_count + test_count], train_dir, test_dir)\n",
    "    move_files_with_rollback(files[train_count + test_count:], train_dir, valid_dir)\n",
    "except Exception as e:\n",
    "    print(f\"Erro ao mover arquivos: {e}\")"
   ]
  }
 ],
 "metadata": {
  "kernelspec": {
   "display_name": "Python 3",
   "language": "python",
   "name": "python3"
  },
  "language_info": {
   "codemirror_mode": {
    "name": "ipython",
    "version": 3
   },
   "file_extension": ".py",
   "mimetype": "text/x-python",
   "name": "python",
   "nbconvert_exporter": "python",
   "pygments_lexer": "ipython3",
   "version": "3.12.3"
  }
 },
 "nbformat": 4,
 "nbformat_minor": 2
}
