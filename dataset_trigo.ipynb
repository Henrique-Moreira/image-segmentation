{
 "cells": [
  {
   "cell_type": "markdown",
   "metadata": {},
   "source": [
    "#### Este dataset contém imagens de campos de trigo, com caixas delimitadoras para cada espiga de trigo identificada. Algumas imagens podem não conter espigas de trigo ou caixas delimitadoras. As imagens foram capturadas em vários locais ao redor do mundo.\n",
    "\n",
    "```\n",
    "Formato dos Dados:\n",
    "Imagens: Arquivos de imagens (.jpg) contendo campos de trigo, com ou sem espigas visíveis.\n",
    "Caixas Delimitadoras: Cada espiga de trigo identificada tem uma caixa delimitadora associada, armazenada em um arquivo CSV.\n",
    "Arquivo CSV: O arquivo train.csv contém:\n",
    "image_id: ID da imagem (corresponde ao nome do arquivo da imagem)\n",
    "width e height: Largura e altura da imagem\n",
    "bbox: Coordenadas da caixa delimitadora para cada espiga de trigo. Há uma linha no CSV para cada caixa delimitadora.\n",
    "Nem todas as imagens têm caixas delimitadoras.\n",
    "```"
   ]
  },
  {
   "cell_type": "markdown",
   "metadata": {},
   "source": [
    "Baixar o dataset:https://www.kaggle.com/competitions/global-wheat-detection/data"
   ]
  },
  {
   "cell_type": "code",
   "execution_count": null,
   "metadata": {},
   "outputs": [],
   "source": []
  },
  {
   "cell_type": "code",
   "execution_count": 1,
   "metadata": {},
   "outputs": [
    {
     "name": "stdout",
     "output_type": "stream",
     "text": [
      "Requirement already satisfied: requests in c:\\python312\\lib\\site-packages (2.32.3)\n",
      "Requirement already satisfied: Pillow in c:\\users\\henrique moreira\\appdata\\roaming\\python\\python312\\site-packages (10.4.0)\n",
      "Requirement already satisfied: matplotlib in c:\\users\\henrique moreira\\appdata\\roaming\\python\\python312\\site-packages (3.9.1)\n",
      "Requirement already satisfied: charset-normalizer<4,>=2 in c:\\python312\\lib\\site-packages (from requests) (3.3.2)\n",
      "Requirement already satisfied: idna<4,>=2.5 in c:\\python312\\lib\\site-packages (from requests) (3.7)\n",
      "Requirement already satisfied: urllib3<3,>=1.21.1 in c:\\python312\\lib\\site-packages (from requests) (2.2.1)\n",
      "Requirement already satisfied: certifi>=2017.4.17 in c:\\python312\\lib\\site-packages (from requests) (2024.6.2)\n",
      "Requirement already satisfied: contourpy>=1.0.1 in c:\\users\\henrique moreira\\appdata\\roaming\\python\\python312\\site-packages (from matplotlib) (1.2.1)\n",
      "Requirement already satisfied: cycler>=0.10 in c:\\users\\henrique moreira\\appdata\\roaming\\python\\python312\\site-packages (from matplotlib) (0.12.1)\n",
      "Requirement already satisfied: fonttools>=4.22.0 in c:\\users\\henrique moreira\\appdata\\roaming\\python\\python312\\site-packages (from matplotlib) (4.53.1)\n",
      "Requirement already satisfied: kiwisolver>=1.3.1 in c:\\users\\henrique moreira\\appdata\\roaming\\python\\python312\\site-packages (from matplotlib) (1.4.5)\n",
      "Requirement already satisfied: numpy>=1.23 in c:\\python312\\lib\\site-packages (from matplotlib) (1.26.4)\n",
      "Requirement already satisfied: packaging>=20.0 in c:\\python312\\lib\\site-packages (from matplotlib) (24.1)\n",
      "Requirement already satisfied: pyparsing>=2.3.1 in c:\\users\\henrique moreira\\appdata\\roaming\\python\\python312\\site-packages (from matplotlib) (3.1.2)\n",
      "Requirement already satisfied: python-dateutil>=2.7 in c:\\users\\henrique moreira\\appdata\\roaming\\python\\python312\\site-packages (from matplotlib) (2.9.0.post0)\n",
      "Requirement already satisfied: six>=1.5 in c:\\python312\\lib\\site-packages (from python-dateutil>=2.7->matplotlib) (1.16.0)\n",
      "Note: you may need to restart the kernel to use updated packages.\n"
     ]
    },
    {
     "name": "stderr",
     "output_type": "stream",
     "text": [
      "\n",
      "[notice] A new release of pip is available: 24.0 -> 24.2\n",
      "[notice] To update, run: python.exe -m pip install --upgrade pip\n"
     ]
    }
   ],
   "source": [
    "%pip install requests Pillow matplotlib"
   ]
  },
  {
   "cell_type": "code",
   "execution_count": 2,
   "metadata": {},
   "outputs": [],
   "source": [
    "import os\n",
    "import requests\n",
    "import json\n",
    "from PIL import Image\n",
    "from io import BytesIO\n",
    "import matplotlib.pyplot as plt\n",
    "\n",
    "# URLs base do dataset LabelMe\n",
    "HOMEIMAGES = 'http://people.csail.mit.edu/brussell/research/LabelMe/Images'\n",
    "HOMEANNOTATIONS = 'http://people.csail.mit.edu/brussell/research/LabelMe/Annotations'\n",
    "\n",
    "# Definir pastas locais para salvar imagens e anotações\n",
    "image_folder = 'downloaded_images'\n",
    "annotation_folder = 'downloaded_annotations'\n",
    "\n",
    "if not os.path.exists(image_folder):\n",
    "    os.makedirs(image_folder)\n",
    "\n",
    "if not os.path.exists(annotation_folder):\n",
    "    os.makedirs(annotation_folder)\n"
   ]
  },
  {
   "cell_type": "code",
   "execution_count": 3,
   "metadata": {},
   "outputs": [],
   "source": [
    "# Função para baixar anotações JSON\n",
    "def download_annotation(folder, filename):\n",
    "    annotation_url = f\"{HOMEANNOTATIONS}/{folder}/{filename}.json\"\n",
    "    response = requests.get(annotation_url)\n",
    "    if response.status_code == 200:\n",
    "        return response.json()  # Retorna o conteúdo JSON\n",
    "    else:\n",
    "        print(f\"Anotação {filename} não encontrada.\")\n",
    "        return None\n"
   ]
  },
  {
   "cell_type": "code",
   "execution_count": 4,
   "metadata": {},
   "outputs": [],
   "source": [
    "# Função para baixar imagens\n",
    "def download_image(folder, filename):\n",
    "    image_url = f\"{HOMEIMAGES}/{folder}/{filename}.jpg\"\n",
    "    response = requests.get(image_url)\n",
    "    if response.status_code == 200:\n",
    "        img = Image.open(BytesIO(response.content))\n",
    "        return img\n",
    "    else:\n",
    "        print(f\"Imagem {filename} não encontrada.\")\n",
    "        return None\n"
   ]
  },
  {
   "cell_type": "code",
   "execution_count": 5,
   "metadata": {},
   "outputs": [],
   "source": [
    "# Função para verificar se a anotação JSON contém um objeto relacionado à agricultura\n",
    "def contains_agriculture_object(annotation_json):\n",
    "    agriculture_keywords = ['farm', 'tractor', 'field', 'barn', 'tree', 'crop', 'plow', 'plant']\n",
    "    \n",
    "    # Iterar sobre os objetos na anotação\n",
    "    for obj in annotation_json['objects']:\n",
    "        if any(keyword in obj['label'].lower() for keyword in agriculture_keywords):\n",
    "            return True\n",
    "    return False\n"
   ]
  },
  {
   "cell_type": "code",
   "execution_count": 6,
   "metadata": {},
   "outputs": [
    {
     "name": "stdout",
     "output_type": "stream",
     "text": [
      "Anotação image1 não encontrada.\n",
      "Anotação image2 não encontrada.\n",
      "Anotação image1 não encontrada.\n",
      "Anotação image2 não encontrada.\n"
     ]
    }
   ],
   "source": [
    "# Função para buscar imagens de agricultura\n",
    "def fetch_agriculture_images(folders):\n",
    "    images = []\n",
    "    \n",
    "    for folder in folders:\n",
    "        # Vamos tentar obter a lista de arquivos no diretório (neste caso, manualmente)\n",
    "        for filename in ['image1', 'image2']:  # Substituir com nomes reais de arquivos\n",
    "            annotation_json = download_annotation(folder, filename)\n",
    "            \n",
    "            if annotation_json and contains_agriculture_object(annotation_json):\n",
    "                img = download_image(folder, filename)\n",
    "                if img:\n",
    "                    images.append(img)\n",
    "                    print(f\"Imagem {filename} contém objeto de agricultura.\")\n",
    "    \n",
    "    return images\n",
    "\n",
    "# Exemplo de pastas para buscar\n",
    "folders = ['05june05_static_street_porter', '06june05_static_street_boston']\n",
    "\n",
    "# Baixar e mostrar as imagens relacionadas à agricultura\n",
    "agriculture_images = fetch_agriculture_images(folders)\n",
    "\n",
    "# Visualizar as imagens baixadas\n",
    "for img in agriculture_images:\n",
    "    plt.figure()\n",
    "    plt.imshow(img)\n",
    "    plt.axis('off')\n",
    "    plt.show()\n"
   ]
  },
  {
   "cell_type": "code",
   "execution_count": null,
   "metadata": {},
   "outputs": [],
   "source": []
  },
  {
   "cell_type": "code",
   "execution_count": null,
   "metadata": {},
   "outputs": [],
   "source": []
  }
 ],
 "metadata": {
  "kernelspec": {
   "display_name": "Python 3",
   "language": "python",
   "name": "python3"
  },
  "language_info": {
   "codemirror_mode": {
    "name": "ipython",
    "version": 3
   },
   "file_extension": ".py",
   "mimetype": "text/x-python",
   "name": "python",
   "nbconvert_exporter": "python",
   "pygments_lexer": "ipython3",
   "version": "3.12.3"
  }
 },
 "nbformat": 4,
 "nbformat_minor": 2
}
