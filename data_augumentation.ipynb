{
 "cells": [
  {
   "cell_type": "markdown",
   "metadata": {},
   "source": [
    "Notebook com três tipos de data augumentation: espelhamento horizontal, zoom e rotação de 90 graus."
   ]
  },
  {
   "cell_type": "markdown",
   "metadata": {},
   "source": [
    "Caminhos de entrada e saída"
   ]
  },
  {
   "cell_type": "code",
   "execution_count": 1,
   "metadata": {},
   "outputs": [],
   "source": [
    "input_base_dir = r'E:\\Mestrado\\Materias\\2024-02-Sistemas para Processamento Multimidia\\seminario\\image-segmentation\\dataset\\mamoeiro\\masks'\n",
    "output_base_dir = r'E:\\Mestrado\\Materias\\2024-02-Sistemas para Processamento Multimidia\\seminario\\image-segmentation\\dataset\\mamoeiro\\augumented\\masks'"
   ]
  },
  {
   "cell_type": "markdown",
   "metadata": {},
   "source": [
    "Bibliotecas necessárias"
   ]
  },
  {
   "cell_type": "code",
   "execution_count": 2,
   "metadata": {},
   "outputs": [],
   "source": [
    "import os\n",
    "import json\n",
    "import cv2\n",
    "import numpy as np\n",
    "from PIL import Image, ImageOps\n",
    "import matplotlib.pyplot as plt\n",
    "from tqdm import tqdm"
   ]
  },
  {
   "cell_type": "markdown",
   "metadata": {},
   "source": [
    "Criação das pastas de saída para train, valid, test"
   ]
  },
  {
   "cell_type": "code",
   "execution_count": 3,
   "metadata": {},
   "outputs": [],
   "source": [
    "def create_dir(path):\n",
    "    if not os.path.exists(path):\n",
    "        os.makedirs(path)"
   ]
  },
  {
   "cell_type": "markdown",
   "metadata": {},
   "source": [
    "Função para aplicar zoom"
   ]
  },
  {
   "cell_type": "code",
   "execution_count": 4,
   "metadata": {},
   "outputs": [],
   "source": [
    "def zoom_image(image, zoom_factor):\n",
    "    height, width = image.shape[:2]\n",
    "    new_width, new_height = int(width * zoom_factor), int(height * zoom_factor)\n",
    "    image_zoomed = cv2.resize(image, (new_width, new_height), interpolation=cv2.INTER_LINEAR)\n",
    "    \n",
    "    if zoom_factor > 1:\n",
    "        # Recortar a imagem centralizada para o tamanho original\n",
    "        start_x = (new_width - width) // 2\n",
    "        start_y = (new_height - height) // 2\n",
    "        return image_zoomed[start_y:start_y+height, start_x:start_x+width]\n",
    "    else:\n",
    "        # Preencher com bordas se o zoom for menor que 1\n",
    "        border_x = (width - new_width) // 2\n",
    "        border_y = (height - new_height) // 2\n",
    "        return cv2.copyMakeBorder(image_zoomed, border_y, border_y, border_x, border_x, cv2.BORDER_CONSTANT, value=[0, 0, 0])"
   ]
  },
  {
   "cell_type": "markdown",
   "metadata": {},
   "source": [
    "Função para aplicar rotação e ajustar os labels"
   ]
  },
  {
   "cell_type": "code",
   "execution_count": 5,
   "metadata": {},
   "outputs": [],
   "source": [
    "def rotate_image(image, angle):\n",
    "    (h, w) = image.shape[:2]\n",
    "    center = (w // 2, h // 2)\n",
    "    matrix = cv2.getRotationMatrix2D(center, angle, 1.0)\n",
    "    rotated = cv2.warpAffine(image, matrix, (w, h))\n",
    "    return rotated"
   ]
  },
  {
   "cell_type": "markdown",
   "metadata": {},
   "source": [
    "Função para aplicar espelhamento e ajustar os labels"
   ]
  },
  {
   "cell_type": "code",
   "execution_count": 6,
   "metadata": {},
   "outputs": [],
   "source": [
    "def mirror_image(image):\n",
    "    return cv2.flip(image, 1)"
   ]
  },
  {
   "cell_type": "markdown",
   "metadata": {},
   "source": [
    "Função principal para processar as imagens e aplicar data augmentation"
   ]
  },
  {
   "cell_type": "code",
   "execution_count": 7,
   "metadata": {},
   "outputs": [],
   "source": [
    "def augment_data(input_base_dir, output_base_dir):\n",
    "    # Criar diretório de saída, se necessário\n",
    "    create_dir(output_base_dir)\n",
    "    \n",
    "    subfolders = ['Train', 'Val', 'Test']  # Pastas que devem ser varridas\n",
    "\n",
    "    for subfolder in subfolders:\n",
    "        input_dir = os.path.join(input_base_dir, subfolder)\n",
    "        output_dir = os.path.join(output_base_dir, subfolder)\n",
    "        create_dir(output_dir)\n",
    "\n",
    "        for root, _, files in os.walk(input_dir):\n",
    "            for file in files:\n",
    "                if file.endswith('.png') or file.endswith('.jpg'):\n",
    "                    img_path = os.path.join(root, file)\n",
    "                    img = cv2.imread(img_path)\n",
    "\n",
    "                    # Caminhos para salvar as imagens transformadas\n",
    "                    base_name, ext = os.path.splitext(file)\n",
    "                    img_shape = img.shape\n",
    "\n",
    "                    # Aplicar espelhamento\n",
    "                    mirrored_img = mirror_image(img)\n",
    "                    cv2.imwrite(os.path.join(output_dir, base_name + '_mirror' + ext), mirrored_img)\n",
    "\n",
    "                    # Aplicar rotação\n",
    "                    rotated_img = rotate_image(img, 90)\n",
    "                    cv2.imwrite(os.path.join(output_dir, base_name + '_rotate' + ext), rotated_img)\n",
    "\n",
    "                    # Aplicar zoom\n",
    "                    zoomed_img = zoom_image(img, 1.2)\n",
    "                    cv2.imwrite(os.path.join(output_dir, base_name + '_zoom' + ext), zoomed_img)\n",
    "\n",
    "augment_data(input_base_dir, output_base_dir)"
   ]
  }
 ],
 "metadata": {
  "kernelspec": {
   "display_name": "Python 3",
   "language": "python",
   "name": "python3"
  },
  "language_info": {
   "codemirror_mode": {
    "name": "ipython",
    "version": 3
   },
   "file_extension": ".py",
   "mimetype": "text/x-python",
   "name": "python",
   "nbconvert_exporter": "python",
   "pygments_lexer": "ipython3",
   "version": "3.12.3"
  }
 },
 "nbformat": 4,
 "nbformat_minor": 2
}
