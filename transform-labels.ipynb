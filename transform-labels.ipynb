{
 "cells": [
  {
   "cell_type": "markdown",
   "metadata": {},
   "source": [
    "#### Este dataset contém imagens de campos de trigo, com caixas delimitadoras para cada espiga de trigo identificada. Algumas imagens podem não conter espigas de trigo ou caixas delimitadoras. As imagens foram capturadas em vários locais ao redor do mundo.\n",
    "\n",
    "```\n",
    "Formato dos Dados:\n",
    "Imagens: Arquivos de imagens (.jpg) contendo campos de trigo, com ou sem espigas visíveis.\n",
    "Caixas Delimitadoras: Cada espiga de trigo identificada tem uma caixa delimitadora associada, armazenada em um arquivo CSV.\n",
    "Arquivo CSV: O arquivo train.csv contém:\n",
    "image_id: ID da imagem (corresponde ao nome do arquivo da imagem)\n",
    "width e height: Largura e altura da imagem\n",
    "bbox: Coordenadas da caixa delimitadora para cada espiga de trigo. Há uma linha no CSV para cada caixa delimitadora.\n",
    "Nem todas as imagens têm caixas delimitadoras.\n",
    "```"
   ]
  },
  {
   "cell_type": "markdown",
   "metadata": {},
   "source": [
    "Baixar o dataset:https://www.kaggle.com/competitions/global-wheat-detection/data"
   ]
  },
  {
   "cell_type": "markdown",
   "metadata": {},
   "source": [
    "Instalação de Pacotes"
   ]
  },
  {
   "cell_type": "code",
   "execution_count": null,
   "metadata": {},
   "outputs": [],
   "source": [
    "%pip install pandas\n",
    "%pip install tqdm"
   ]
  },
  {
   "cell_type": "markdown",
   "metadata": {},
   "source": [
    "Convert Global Wheat Detection DS the train.csv to per image labelme json files"
   ]
  },
  {
   "cell_type": "code",
   "execution_count": 5,
   "metadata": {},
   "outputs": [],
   "source": [
    "\n",
    "import pandas as pd\n",
    "from IPython.display import Image\n",
    "import json\n",
    "import os\n",
    "from tqdm import tqdm"
   ]
  },
  {
   "cell_type": "code",
   "execution_count": null,
   "metadata": {},
   "outputs": [],
   "source": [
    "d = pd.read_csv('./dataset/global-wheat-detection/train.csv')\n",
    "d['image_id'].unique()[0]\n",
    "for image_id in tqdm(list(d['image_id'].unique())):\n",
    "    shapes = []\n",
    "    for _, row in d[d['image_id']==image_id].iterrows():\n",
    "        x, y, w, h = json.loads(row['bbox'])\n",
    "        shapes.append({\n",
    "          \"label\": \"wheat\",\n",
    "          \"points\": [[x, y], [x+w, y+h]],\n",
    "          \"group_id\": None,\n",
    "          \"shape_type\": \"rectangle\",\n",
    "          \"flags\": {}\n",
    "        })\n",
    "    img_filename = \"{}.jpg\".format(image_id)\n",
    "    labelme = json.dumps({\n",
    "      \"version\": \"4.0.0\",\n",
    "      \"flags\": {},\n",
    "      \"shapes\": shapes,\n",
    "      \"imagePath\": img_filename,\n",
    "      \"imageData\": None,\n",
    "      \"imageHeight\": 1024,\n",
    "      \"imageWidth\": 1024\n",
    "    }, indent=2)\n",
    "    annot_filename = \"labelme/{}.json\".format(image_id)\n",
    "    os.makedirs(os.path.dirname(annot_filename), exist_ok=True)\n",
    "    with open(annot_filename, \"w\") as f:\n",
    "        f.write(labelme)"
   ]
  },
  {
   "cell_type": "code",
   "execution_count": null,
   "metadata": {},
   "outputs": [],
   "source": [
    "import os\n",
    "import shutil\n",
    "\n",
    "# Caminhos das pastas\n",
    "dataset_path = r'C:\\Mestrado\\Materias\\2024-02-Sistemas para Processamento Multimidia\\seminario\\image-segmentation\\dataset\\global-wheat-detection'\n",
    "labels_path = r'C:\\Mestrado\\Materias\\2024-02-Sistemas para Processamento Multimidia\\seminario\\image-segmentation\\labelme'\n",
    "\n",
    "# Listar todos os arquivos .json na pasta de labels\n",
    "label_files = [f for f in os.listdir(labels_path) if f.endswith('.json')]\n",
    "\n",
    "# Mover cada arquivo .json para a pasta correspondente\n",
    "for label_file in label_files:\n",
    "    # Nome do arquivo sem extensão\n",
    "    file_name = os.path.splitext(label_file)[0]\n",
    "    \n",
    "    # Caminho completo do arquivo de label\n",
    "    src_path = os.path.join(labels_path, label_file)\n",
    "    \n",
    "    # Verificar se o arquivo de imagem correspondente está na pasta train ou test\n",
    "    if os.path.exists(os.path.join(dataset_path, 'train', f'{file_name}.jpg')):\n",
    "        dest_path = os.path.join(dataset_path, 'train', label_file)\n",
    "    elif os.path.exists(os.path.join(dataset_path, 'test', f'{file_name}.jpg')):\n",
    "        dest_path = os.path.join(dataset_path, 'test', label_file)\n",
    "    else:\n",
    "        print(f'Imagem correspondente para {label_file} não encontrada em train ou test.')\n",
    "        continue\n",
    "    \n",
    "    # Mover o arquivo de label para a pasta correspondente\n",
    "    shutil.move(src_path, dest_path)\n",
    "    print(f'Movido {label_file} para {dest_path}')"
   ]
  }
 ],
 "metadata": {
  "kernelspec": {
   "display_name": ".venv",
   "language": "python",
   "name": "python3"
  },
  "language_info": {
   "codemirror_mode": {
    "name": "ipython",
    "version": 3
   },
   "file_extension": ".py",
   "mimetype": "text/x-python",
   "name": "python",
   "nbconvert_exporter": "python",
   "pygments_lexer": "ipython3",
   "version": "3.12.4"
  }
 },
 "nbformat": 4,
 "nbformat_minor": 2
}
